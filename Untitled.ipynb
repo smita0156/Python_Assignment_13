{
 "cells": [
  {
   "cell_type": "code",
   "execution_count": null,
   "id": "3fef1d45-a0e7-402e-ae4a-bd1d8cb7e142",
   "metadata": {},
   "outputs": [],
   "source": [
    "1. What advantages do Excel spreadsheets have over CSV spreadsheets?"
   ]
  },
  {
   "cell_type": "code",
   "execution_count": null,
   "id": "58d3e9e4-e160-4e8e-809e-8b7e46be0bb9",
   "metadata": {},
   "outputs": [],
   "source": [
    "Ans.\n",
    "\n",
    "It is a binary file that holds information about all the worksheets in a workbook\n",
    "An Excel not only stores data but can also do operations on the data\n",
    "Files saved in excel cannot be opened or edited by text editors\n",
    "large files user is much easier in Excel for the end user. Also, you can have additional functions like selecting individual cells for import, convert dates and time automatically, reading formulas and their results, filters, sorting, etc\n",
    "Apart from text, data can also be stored in form of charts and graphs\n",
    "Excel can connect to external data sources to fetch data. You can use custom add-in in Excel to increase its functionality.\n",
    "Excel allows for Review of Data with detailed tracking and commenting feature\n",
    "In Excel, spreadsheets can have values of data types other than strings; cells can have different fonts, sizes, or color settings; cells can have varying widths and heights; adjacent cells can be merged"
   ]
  },
  {
   "cell_type": "code",
   "execution_count": null,
   "id": "44a8ba18-acb8-4727-bd63-35f807df510b",
   "metadata": {},
   "outputs": [],
   "source": [
    "2.What do you pass to csv.reader() and csv.writer() to create reader and writer objects?"
   ]
  },
  {
   "cell_type": "code",
   "execution_count": null,
   "id": "7f86ddba-fd09-48f3-ad01-4495ede2924a",
   "metadata": {},
   "outputs": [],
   "source": [
    "\n",
    "#we pass a File object, obtained from a call to open().\n",
    "import csv\n",
    "file_csv = open('abc.csv')\n",
    "filereader = csv.reader(file_csv)\n",
    "fileData = list(filereader)\n",
    "fileData\n",
    "\n",
    "     "
   ]
  },
  {
   "cell_type": "code",
   "execution_count": null,
   "id": "c18eab28-cae3-4f9c-bf4e-d767bc4fa4c6",
   "metadata": {},
   "outputs": [],
   "source": [
    "3. What modes do File objects for reader and writer objects need to be opened in?"
   ]
  },
  {
   "cell_type": "code",
   "execution_count": null,
   "id": "69719a57-a6e1-421f-ae81-5eefebe41179",
   "metadata": {},
   "outputs": [],
   "source": [
    "Ans. File objects need to be opened in read-binary ('rb') for Reader objects and write-binary ('wb') for Writer objects"
   ]
  },
  {
   "cell_type": "code",
   "execution_count": null,
   "id": "6e8a26d7-c3fa-4762-a4de-7e139b88de3a",
   "metadata": {},
   "outputs": [],
   "source": [
    "4. What method takes a list argument and writes it to a CSV file?"
   ]
  },
  {
   "cell_type": "code",
   "execution_count": null,
   "id": "f9d6cd6c-5584-4580-9093-0bc30d1680ec",
   "metadata": {},
   "outputs": [],
   "source": [
    "\n",
    " #The writerow() method\n",
    "File_abc = open('abc.csv','w')\n",
    "File_Writer = csv.writer(File_abc)\n",
    "csv.writer(File_abc).writerow(['cat','fish','dog'])\n",
    "     "
   ]
  },
  {
   "cell_type": "code",
   "execution_count": null,
   "id": "fecd7edb-6988-4340-841f-f33c9a9f544e",
   "metadata": {},
   "outputs": [],
   "source": [
    "5. What do the keyword arguments delimiter and line terminator do?"
   ]
  },
  {
   "cell_type": "code",
   "execution_count": null,
   "id": "1cde50aa-290f-481a-af0d-06ed907c8b4d",
   "metadata": {},
   "outputs": [],
   "source": [
    "Ans.\n",
    "\n",
    "The delimiter argument changes the string used to separate cells in a row.\n",
    "The line terminator argument changes the string used to separate rows.\n"
   ]
  },
  {
   "cell_type": "code",
   "execution_count": null,
   "id": "86c29184-1aae-48a6-896c-a83f78271e18",
   "metadata": {},
   "outputs": [],
   "source": [
    "6. What function takes a string of JSON data and returns a Python data structure?"
   ]
  },
  {
   "cell_type": "code",
   "execution_count": null,
   "id": "cb632446-c524-4afa-a036-ea3a789f26be",
   "metadata": {},
   "outputs": [],
   "source": [
    "Ans. json.loads()"
   ]
  },
  {
   "cell_type": "code",
   "execution_count": null,
   "id": "744615f8-1a7c-4f44-bc3d-80fab1a5ff83",
   "metadata": {},
   "outputs": [],
   "source": [
    "7. What function takes a Python data structure and returns a string of JSON data?"
   ]
  },
  {
   "cell_type": "code",
   "execution_count": null,
   "id": "c68b7908-9831-49b4-b89b-3039428502c8",
   "metadata": {},
   "outputs": [],
   "source": [
    "Ans. json.dumps()"
   ]
  }
 ],
 "metadata": {
  "kernelspec": {
   "display_name": "Python 3 (ipykernel)",
   "language": "python",
   "name": "python3"
  },
  "language_info": {
   "codemirror_mode": {
    "name": "ipython",
    "version": 3
   },
   "file_extension": ".py",
   "mimetype": "text/x-python",
   "name": "python",
   "nbconvert_exporter": "python",
   "pygments_lexer": "ipython3",
   "version": "3.10.6"
  }
 },
 "nbformat": 4,
 "nbformat_minor": 5
}
